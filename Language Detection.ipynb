{
 "cells": [
  {
   "cell_type": "markdown",
   "id": "3199e9a0",
   "metadata": {},
   "source": [
    "# Language Detection\n",
    "\n",
    "As a human, you can easily detect the languages you know. For example, I can easily identify Hindi and English, but being an Indian, it is also not possible for me to identify all Indian languages. This is where the language identification task can be used. Google Translate is one of the most popular language translators in the world which is used by so many people around the world. It also includes a machine learning model to detect languages that you can use if you don’t know which language you want to translate."
   ]
  },
  {
   "cell_type": "code",
   "execution_count": 1,
   "id": "a714a565",
   "metadata": {},
   "outputs": [],
   "source": [
    "import pandas as pd\n",
    "import numpy as np\n",
    "from sklearn.feature_extraction.text import CountVectorizer\n",
    "from sklearn.model_selection import train_test_split\n",
    "from sklearn.naive_bayes import MultinomialNB\n"
   ]
  },
  {
   "cell_type": "code",
   "execution_count": 2,
   "id": "6d0ce573",
   "metadata": {},
   "outputs": [
    {
     "name": "stdout",
     "output_type": "stream",
     "text": [
      "                                                Text  language\n",
      "0  klement gottwaldi surnukeha palsameeriti ning ...  Estonian\n",
      "1  sebes joseph pereira thomas  på eng the jesuit...   Swedish\n",
      "2  ถนนเจริญกรุง อักษรโรมัน thanon charoen krung เ...      Thai\n",
      "3  விசாகப்பட்டினம் தமிழ்ச்சங்கத்தை இந்துப் பத்திர...     Tamil\n",
      "4  de spons behoort tot het geslacht haliclona en...     Dutch\n"
     ]
    }
   ],
   "source": [
    "data = pd.read_csv(\"https://raw.githubusercontent.com/amankharwal/Website-data/master/dataset.csv\")\n",
    "print(data.head())"
   ]
  },
  {
   "cell_type": "code",
   "execution_count": 3,
   "id": "6a45a1dd",
   "metadata": {},
   "outputs": [
    {
     "data": {
      "text/plain": [
       "Text        0\n",
       "language    0\n",
       "dtype: int64"
      ]
     },
     "execution_count": 3,
     "metadata": {},
     "output_type": "execute_result"
    }
   ],
   "source": [
    "# Let’s have a look at whether this dataset contains any null values or not:\n",
    "data.isnull().sum()"
   ]
  },
  {
   "cell_type": "code",
   "execution_count": 4,
   "id": "c99ad9f8",
   "metadata": {},
   "outputs": [
    {
     "data": {
      "text/plain": [
       "Tamil         1000\n",
       "Swedish       1000\n",
       "Hindi         1000\n",
       "Russian       1000\n",
       "Persian       1000\n",
       "Pushto        1000\n",
       "Chinese       1000\n",
       "Spanish       1000\n",
       "Indonesian    1000\n",
       "Urdu          1000\n",
       "Korean        1000\n",
       "Turkish       1000\n",
       "Latin         1000\n",
       "French        1000\n",
       "Arabic        1000\n",
       "Estonian      1000\n",
       "Japanese      1000\n",
       "Thai          1000\n",
       "Romanian      1000\n",
       "English       1000\n",
       "Dutch         1000\n",
       "Portugese     1000\n",
       "Name: language, dtype: int64"
      ]
     },
     "execution_count": 4,
     "metadata": {},
     "output_type": "execute_result"
    }
   ],
   "source": [
    "# Now let’s have a look at all the languages present in this dataset:\n",
    "data['language'].value_counts()"
   ]
  },
  {
   "cell_type": "code",
   "execution_count": 5,
   "id": "86741b37",
   "metadata": {},
   "outputs": [],
   "source": [
    "# This dataset contains 22 languages with 1000 sentences from each language. This is a very balanced dataset with no missing values, so we can say this dataset is completely ready to be used to train a machine learning model."
   ]
  },
  {
   "cell_type": "markdown",
   "id": "59207193",
   "metadata": {},
   "source": [
    "## Language Detection Model "
   ]
  },
  {
   "cell_type": "code",
   "execution_count": 6,
   "id": "af948651",
   "metadata": {},
   "outputs": [],
   "source": [
    "# Now let’s split the data into training and test sets:\n",
    "x = np.array(data['Text'])\n",
    "y = np.array(data['language'])"
   ]
  },
  {
   "cell_type": "code",
   "execution_count": 7,
   "id": "3d8432fd",
   "metadata": {},
   "outputs": [],
   "source": [
    "cv = CountVectorizer()\n",
    "X = cv.fit_transform(x)\n",
    "X_train, X_test, y_train, y_test = train_test_split(X, y, \n",
    "                                                    test_size=0.33, \n",
    "                                                    random_state=42)"
   ]
  },
  {
   "cell_type": "code",
   "execution_count": 8,
   "id": "86143b95",
   "metadata": {},
   "outputs": [],
   "source": [
    "# As this is a problem of multiclass classification, so I will be using the Multinomial Naïve Bayes algorithm to train the language detection model as this algorithm always performs very well on the problems based on multiclass classification:"
   ]
  },
  {
   "cell_type": "code",
   "execution_count": 9,
   "id": "5ee79dfc",
   "metadata": {},
   "outputs": [
    {
     "data": {
      "text/plain": [
       "0.953168044077135"
      ]
     },
     "execution_count": 9,
     "metadata": {},
     "output_type": "execute_result"
    }
   ],
   "source": [
    "model = MultinomialNB()\n",
    "model.fit(X_train,y_train)\n",
    "model.score(X_test,y_test)"
   ]
  },
  {
   "cell_type": "code",
   "execution_count": 10,
   "id": "a5e0bc7e",
   "metadata": {},
   "outputs": [
    {
     "name": "stdout",
     "output_type": "stream",
     "text": [
      "Enter a text:  देखकर अच्छा लगता है\n",
      "['Hindi']\n"
     ]
    }
   ],
   "source": [
    "# Now let’s use this model to detect the language of a text by taking a user input:\n",
    "user = input('Enter a text: ')\n",
    "data = cv.transform([user]).toarray()\n",
    "output = model.predict(data)\n",
    "print(output)"
   ]
  },
  {
   "cell_type": "code",
   "execution_count": null,
   "id": "3dce037c",
   "metadata": {},
   "outputs": [],
   "source": []
  }
 ],
 "metadata": {
  "kernelspec": {
   "display_name": "Python 3",
   "language": "python",
   "name": "python3"
  },
  "language_info": {
   "codemirror_mode": {
    "name": "ipython",
    "version": 3
   },
   "file_extension": ".py",
   "mimetype": "text/x-python",
   "name": "python",
   "nbconvert_exporter": "python",
   "pygments_lexer": "ipython3",
   "version": "3.8.8"
  }
 },
 "nbformat": 4,
 "nbformat_minor": 5
}
