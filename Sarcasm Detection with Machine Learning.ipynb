{
 "cells": [
  {
   "cell_type": "markdown",
   "id": "22d41fd8",
   "metadata": {},
   "source": [
    "# Sarcasm Detection with Machine Learning\n",
    "\n",
    "Sarcasm means being funny by being the opposite of what you mean. It has been part of every human language for years. Today, it is also used in news headlines and various other social media platforms to gain more attention. Sarcasm detection is a natural language processing and binary classification task. We can train a machine learning model to detect whether or not a sentence is sarcastic using a dataset of sarcastic and non-sarcastic sentences that I found on Kaggle."
   ]
  },
  {
   "cell_type": "code",
   "execution_count": 1,
   "id": "4ca1bf35",
   "metadata": {},
   "outputs": [],
   "source": [
    "import pandas as pd\n",
    "import numpy as np\n",
    "from sklearn.feature_extraction.text import CountVectorizer\n",
    "from sklearn.model_selection import train_test_split\n",
    "from sklearn.naive_bayes import BernoulliNB"
   ]
  },
  {
   "cell_type": "code",
   "execution_count": 2,
   "id": "9ce227f5",
   "metadata": {},
   "outputs": [],
   "source": [
    "data = pd.read_json('E:\\Data sets\\Sarcasm.json',lines = True)"
   ]
  },
  {
   "cell_type": "code",
   "execution_count": 3,
   "id": "f64f2ad8",
   "metadata": {},
   "outputs": [
    {
     "name": "stdout",
     "output_type": "stream",
     "text": [
      "                                        article_link  \\\n",
      "0  https://www.huffingtonpost.com/entry/versace-b...   \n",
      "1  https://www.huffingtonpost.com/entry/roseanne-...   \n",
      "2  https://local.theonion.com/mom-starting-to-fea...   \n",
      "3  https://politics.theonion.com/boehner-just-wan...   \n",
      "4  https://www.huffingtonpost.com/entry/jk-rowlin...   \n",
      "\n",
      "                                            headline  is_sarcastic  \n",
      "0  former versace store clerk sues over secret 'b...             0  \n",
      "1  the 'roseanne' revival catches up to our thorn...             0  \n",
      "2  mom starting to fear son's web series closest ...             1  \n",
      "3  boehner just wants wife to listen, not come up...             1  \n",
      "4  j.k. rowling wishes snape happy birthday in th...             0  \n"
     ]
    }
   ],
   "source": [
    "print(data.head())"
   ]
  },
  {
   "cell_type": "markdown",
   "id": "7e8b026d",
   "metadata": {},
   "source": [
    "The “is_sarcastic” column in this dataset contains the labels that we have to predict for the task of sarcasm detection. It contains binary values as 1 and 0, where 1 means sarcastic and 0 means not sarcastic. So for simplicity, I will transform the values of this column as “sarcastic” and “not sarcastic” instead of 1 and 0:"
   ]
  },
  {
   "cell_type": "code",
   "execution_count": 4,
   "id": "bb97ec77",
   "metadata": {},
   "outputs": [
    {
     "name": "stdout",
     "output_type": "stream",
     "text": [
      "                                        article_link  \\\n",
      "0  https://www.huffingtonpost.com/entry/versace-b...   \n",
      "1  https://www.huffingtonpost.com/entry/roseanne-...   \n",
      "2  https://local.theonion.com/mom-starting-to-fea...   \n",
      "3  https://politics.theonion.com/boehner-just-wan...   \n",
      "4  https://www.huffingtonpost.com/entry/jk-rowlin...   \n",
      "\n",
      "                                            headline   is_sarcastic  \n",
      "0  former versace store clerk sues over secret 'b...  Not sarcastic  \n",
      "1  the 'roseanne' revival catches up to our thorn...  Not sarcastic  \n",
      "2  mom starting to fear son's web series closest ...      Sarcastic  \n",
      "3  boehner just wants wife to listen, not come up...      Sarcastic  \n",
      "4  j.k. rowling wishes snape happy birthday in th...  Not sarcastic  \n"
     ]
    }
   ],
   "source": [
    "data['is_sarcastic'] = data['is_sarcastic'].map({0 : 'Not sarcastic', 1 : 'Sarcastic'})\n",
    "print(data.head())"
   ]
  },
  {
   "cell_type": "markdown",
   "id": "66821096",
   "metadata": {},
   "source": [
    "Now let’s prepare the data for training a machine learning model. This dataset has three columns, out of which we only need the “headline” column as a feature and the “is_sarcastic” column as a label. So let’s select these columns and split the data into 20% test set and 80% training set:"
   ]
  },
  {
   "cell_type": "code",
   "execution_count": 5,
   "id": "16e15e4f",
   "metadata": {},
   "outputs": [],
   "source": [
    "data = data[['headline','is_sarcastic']]\n",
    "x = np.array(data['headline'])\n",
    "y = np.array(data[\"is_sarcastic\"]"
   ]
  },
  {
   "cell_type": "code",
   "execution_count": 6,
   "id": "05d8432c",
   "metadata": {},
   "outputs": [],
   "source": [
    "cv = CountVectorizer()\n",
    "X = cv.fit_transform(x)\n",
    "X_train, X_test, y_train, y_test = train_test_split(X, y, test_size=0.20, random_state=42)"
   ]
  },
  {
   "cell_type": "markdown",
   "id": "0c9866b0",
   "metadata": {},
   "source": [
    "Now I will be using the Bernoulli Naive Bayes algorithm to train a model for the task of sarcasm detection:"
   ]
  },
  {
   "cell_type": "code",
   "execution_count": 7,
   "id": "a5a34afc",
   "metadata": {},
   "outputs": [
    {
     "name": "stdout",
     "output_type": "stream",
     "text": [
      "0.8448146761512542\n"
     ]
    }
   ],
   "source": [
    "model = BernoulliNB()\n",
    "model.fit(X_train,y_train)\n",
    "print(model.score(X_test,y_test))"
   ]
  },
  {
   "cell_type": "markdown",
   "id": "e35bd43a",
   "metadata": {},
   "source": [
    "Now let’s use a sarcastic text as input to test whether our machine learning model detects sarcasm or not:"
   ]
  },
  {
   "cell_type": "code",
   "execution_count": 8,
   "id": "aff27943",
   "metadata": {},
   "outputs": [
    {
     "name": "stdout",
     "output_type": "stream",
     "text": [
      "Enter a text:Cows lose their jobs as milk prices drop\n",
      "['Sarcastic']\n"
     ]
    }
   ],
   "source": [
    "user = input('Enter a text:')\n",
    "data = cv.transform([user]).toarray()\n",
    "output = model.predict(data)\n",
    "print(output)"
   ]
  },
  {
   "cell_type": "markdown",
   "id": "a6108380",
   "metadata": {},
   "source": [
    "So this is how you can easily train a machine learning model for the task of sarcasm detection."
   ]
  },
  {
   "cell_type": "code",
   "execution_count": null,
   "id": "75872c2f",
   "metadata": {},
   "outputs": [],
   "source": []
  }
 ],
 "metadata": {
  "kernelspec": {
   "display_name": "Python 3",
   "language": "python",
   "name": "python3"
  },
  "language_info": {
   "codemirror_mode": {
    "name": "ipython",
    "version": 3
   },
   "file_extension": ".py",
   "mimetype": "text/x-python",
   "name": "python",
   "nbconvert_exporter": "python",
   "pygments_lexer": "ipython3",
   "version": "3.8.8"
  }
 },
 "nbformat": 4,
 "nbformat_minor": 5
}
