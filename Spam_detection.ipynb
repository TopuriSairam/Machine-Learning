{
  "nbformat": 4,
  "nbformat_minor": 0,
  "metadata": {
    "colab": {
      "name": "Spam detection.ipynb",
      "provenance": [],
      "collapsed_sections": []
    },
    "kernelspec": {
      "name": "python3",
      "display_name": "Python 3"
    },
    "language_info": {
      "name": "python"
    }
  },
  "cells": [
    {
      "cell_type": "code",
      "metadata": {
        "colab": {
          "base_uri": "https://localhost:8080/"
        },
        "id": "trFJ9OKTBgRC",
        "outputId": "97ca7e5f-2c11-4d2c-e645-886f7c6f227e"
      },
      "source": [
        "\n",
        "import pandas as pd\n",
        "import numpy as np\n",
        "import matplotlib.pyplot as plt\n",
        "from sklearn.feature_extraction.text import CountVectorizer \n",
        "from sklearn.model_selection import train_test_split\n",
        "from sklearn.naive_bayes import MultinomialNB\n",
        "data = pd.read_csv('/content/spam.csv')\n",
        "\n",
        "data.head(10)\n",
        "\n",
        "x = np.array(data['text'])\n",
        "y = np.array(data['label'])\n",
        "\n",
        "cv = CountVectorizer()\n",
        "X = cv.fit_transform(x) #to fit the data\n",
        "X_train, X_test, y_train, y_test =  train_test_split(X , y , test_size = 0.33, random_state=42)\n",
        "\n",
        "clf = MultinomialNB()\n",
        "clf.fit(X_train,y_train)\n",
        "\n",
        "sample = input('Enter a message:')\n",
        "data = cv.transform([sample]).toarray()\n",
        "print(clf.predict(data))"
      ],
      "execution_count": 5,
      "outputs": [
        {
          "output_type": "stream",
          "name": "stdout",
          "text": [
            "Enter a message:You won $40 cash price\n",
            "['spam']\n"
          ]
        }
      ]
    }
  ]
}